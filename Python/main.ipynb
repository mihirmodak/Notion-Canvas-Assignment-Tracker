{
 "metadata": {
  "language_info": {
   "codemirror_mode": {
    "name": "ipython",
    "version": 3
   },
   "file_extension": ".py",
   "mimetype": "text/x-python",
   "name": "python",
   "nbconvert_exporter": "python",
   "pygments_lexer": "ipython3",
   "version": "3.9.5"
  },
  "orig_nbformat": 2,
  "kernelspec": {
   "name": "python3",
   "display_name": "Python 3.9.5 64-bit"
  },
  "metadata": {
   "interpreter": {
    "hash": "63fd5069d213b44bf678585dea6b12cceca9941eaf7f819626cde1f2670de90d"
   }
  },
  "interpreter": {
   "hash": "d11266fe9ecec1da5e61ebcc33d198b029f4069f6ffded2281a9eae3e5440979"
  }
 },
 "nbformat": 4,
 "nbformat_minor": 2,
 "cells": [
  {
   "cell_type": "markdown",
   "source": [
    "## 1. Import the necessary modules"
   ],
   "metadata": {}
  },
  {
   "cell_type": "code",
   "execution_count": 1,
   "source": [
    "from dotenv import dotenv_values\r\n",
    "env = dotenv_values(\".env\")\r\n",
    "\r\n",
    "import requests\r\n",
    "canvas_tokens = {'access_token': env['CANVAS_ACCESS_TOKEN']}\r\n",
    "\r\n",
    "from datetime import datetime,timedelta\r\n",
    "import pytz\r\n",
    "utc = pytz.timezone(\"UTC\")\r\n",
    "timezone = pytz.timezone(\"America/New_York\")\r\n",
    "\r\n",
    "import codecs\r\n",
    "import re\r\n",
    "import numpy as np\r\n",
    "import traceback\r\n",
    "import json"
   ],
   "outputs": [],
   "metadata": {}
  },
  {
   "cell_type": "markdown",
   "source": [
    "## 2. Create a function to parse HTML"
   ],
   "metadata": {}
  },
  {
   "cell_type": "code",
   "execution_count": 2,
   "source": [
    "def cleanHTML(rawHTML):\r\n",
    "    cleanr = re.compile('<.*?>|&([a-z0-9]+|#[0-9]{1,6}|#x[0-9a-f]{1,6});')\r\n",
    "    cleantext = re.sub(cleanr, '', rawHTML)\r\n",
    "    return cleantext"
   ],
   "outputs": [],
   "metadata": {}
  },
  {
   "cell_type": "markdown",
   "source": [
    "## 3. Create functions to access broad course-level data from Instructure"
   ],
   "metadata": {}
  },
  {
   "cell_type": "code",
   "execution_count": 3,
   "source": [
    "def getCourseIDs():\r\n",
    "    url = \"https://umd.instructure.com/api/v1/courses\"\r\n",
    "    r = requests.get(url, params=canvas_tokens)\r\n",
    "    if r.status_code != 200:\r\n",
    "        print(r.status_code)\r\n",
    "        print(r.text)\r\n",
    "    response = ('},\\n{\"id\"').join( r.text.split('},{\"id\"') )\r\n",
    "\r\n",
    "    # with open(\"courses.json\", \"w+\") as f:\r\n",
    "    #     f.write(response)\r\n",
    "\r\n",
    "    subjectData = parseSubjectData(response)\r\n",
    "    return subjectData\r\n",
    "\r\n",
    "# Takes in the Http response data for all subject\r\n",
    "# Returns a list of dicts, each element of the list is a separate subject, the dict contains the name, id\r\n",
    "def parseSubjectData(responseData):\r\n",
    "    subjects = []\r\n",
    "    for subject in responseData.split(\"\\n\"):\r\n",
    "        parsed = subject[:-1].split(\",\")\r\n",
    "        toAppend = False\r\n",
    "        for item in parsed:\r\n",
    "            KVPairs = item.split('\":')\r\n",
    "\r\n",
    "            if '\"name' in KVPairs[0]:\r\n",
    "                name = KVPairs[1].split('\"')[1].split(\"-\")[0]\r\n",
    "            elif '{\"id' in KVPairs[0]:\r\n",
    "                id = KVPairs[1]\r\n",
    "                # if id == '1215363': # Special Case to include BIOE Advising\r\n",
    "                #     toAppend = True\r\n",
    "            elif '\"start_at' in KVPairs[0]:\r\n",
    "                if datetime.strptime(KVPairs[1], '\"%Y-%m-%dT%H:%M:%SZ\"').date() > datetime.strptime(env['TERM_START_DATE'], \"%Y-%m\").date():\r\n",
    "                    toAppend = True\r\n",
    "        if toAppend:\r\n",
    "            subjects.append({\"name\":name, \"id\":id})\r\n",
    "    return subjects"
   ],
   "outputs": [],
   "metadata": {}
  },
  {
   "cell_type": "code",
   "execution_count": 4,
   "source": [
    "subjects = getCourseIDs()\r\n",
    "print(subjects)"
   ],
   "outputs": [
    {
     "output_type": "stream",
     "name": "stdout",
     "text": [
      "[{'name': 'BIOE340', 'id': '1307233'}]\n"
     ]
    }
   ],
   "metadata": {}
  },
  {
   "cell_type": "markdown",
   "source": [
    "## 4. Create functions to access Assignment data from Instructure"
   ],
   "metadata": {}
  },
  {
   "cell_type": "code",
   "execution_count": 5,
   "source": [
    "def getAssignmentData(CourseID):\r\n",
    "    url = f\"https://umd.instructure.com/api/v1/courses/{CourseID}/assignments\"\r\n",
    "    r = requests.get(url, params=canvas_tokens)\r\n",
    "    response = ('},\\n{\"id\"').join( r.text.split('},{\"id\"') )\r\n",
    "\r\n",
    "    # with open(f\"{CourseID}.json\", \"w+\") as f:\r\n",
    "    #     f.write(response)\r\n",
    "\r\n",
    "    assignmentData = parseAssignmentData(response)\r\n",
    "    return assignmentData\r\n",
    "\r\n",
    "# Takes in the Http response data for all subject\r\n",
    "# Returns a list of dicts, each element of the list is a separate subject, the dict contains the name, id\r\n",
    "def parseAssignmentData(responseData):\r\n",
    "    assignments = []\r\n",
    "    for assignment in responseData.split(\"\\n\"):\r\n",
    "        parsed = assignment[:-1].split(\",\")\r\n",
    "        toAppend = False\r\n",
    "        for item in parsed:\r\n",
    "            KVPairs = item.split('\":')\r\n",
    "            KVPairs[0] = KVPairs[0].split('\"')[1]\r\n",
    "\r\n",
    "            try:\r\n",
    "                if KVPairs[0] == 'name': # This is a specific condition (==) because there are multiple fields that have the word name\r\n",
    "                    name = KVPairs[1]\r\n",
    "                    # print(f\"Pair: {KVPairs[0]}, Name: {name}\")\r\n",
    "                elif 'due_at' in KVPairs[0]: # allows for keys such as '\"due_at' and '\"due_at\"'\r\n",
    "                    if datetime.strptime(KVPairs[1], '\"%Y-%m-%dT%H:%M:%SZ\"').date() > datetime.strptime(env['TERM_START_DATE'], \"%Y-%m\").date():\r\n",
    "                        # dueDate = datetime.strptime(KVPairs[1], '\"%Y-%m-%dT%H:%M:%SZ\"') - timedelta(hours=4, minutes=0) # Time returned from Canvas API is in UTC time zone, convert to EST\r\n",
    "                        dueDate = datetime.strptime(KVPairs[1], '\"%Y-%m-%dT%H:%M:%SZ\"')\r\n",
    "                        dueDate = utc.localize(dueDate)\r\n",
    "                        dueDate = dueDate.replace(tzinfo=pytz.UTC).astimezone(timezone)\r\n",
    "                        toAppend = True\r\n",
    "                elif 'submission_types' in KVPairs[0]:\r\n",
    "                    submissionType = KVPairs[1][1:-1].split('\"') # List formatting\r\n",
    "                    submissionType = list(filter(lambda x: ',' not in x and x != '', submissionType)) # More List formatting\r\n",
    "                elif 'description' in KVPairs[0]:\r\n",
    "                    desc = cleanHTML(codecs.decode(KVPairs[1], 'unicode_escape'))\r\n",
    "                elif 'html_url' in KVPairs[0]:\r\n",
    "                    assignmentURL = KVPairs[1].split('\"')[1]\r\n",
    "            except Exception as e:\r\n",
    "                print(f\"Error: {KVPairs}\\n{traceback.format_exc()}\")\r\n",
    "\r\n",
    "        if toAppend:\r\n",
    "            assignments.append({\"name\":name.strip(), \"due\":dueDate, \"submission\":submissionType, \"desc\": desc.strip(), \"url\":assignmentURL})\r\n",
    "    return assignments"
   ],
   "outputs": [],
   "metadata": {}
  },
  {
   "cell_type": "code",
   "execution_count": 6,
   "source": [
    "assignmentData = []\r\n",
    "for entry in subjects:\r\n",
    "    # print(f\"************{entry}************\")\r\n",
    "    assignmentData.append(\r\n",
    "        getAssignmentData(entry['id'])\r\n",
    "    )\r\n",
    "assignmentData = np.ravel(assignmentData).flatten().tolist() # Making the get response data more human readable"
   ],
   "outputs": [
    {
     "output_type": "stream",
     "name": "stdout",
     "text": [
      "************{'name': 'BIOE340', 'id': '1307233'}************\n",
      "Pair: name, Name: \"homework 1 (due september 9)\"\n",
      "Pair: name, Name: \"homework 2 (due september 16)\"\n",
      "Pair: name, Name: \"homework 3 (due october 7)\"\n",
      "Pair: name, Name: \"homework 4 (due october 14)\"\n",
      "Pair: name, Name: \"homework 5 (due november 4)\"\n",
      "Pair: name, Name: \"homework 6 (due november 11)\"\n",
      "Pair: name, Name: \"lab 1  (due september 23)\"\n",
      "Pair: name, Name: \"lab 2  (due october 21)\"\n",
      "Pair: name, Name: \"lab 3  (due november 18)\"\n",
      "Pair: name, Name: \"lab 4  (due december 7)\"\n"
     ]
    }
   ],
   "metadata": {
    "tags": []
   }
  },
  {
   "cell_type": "code",
   "execution_count": 7,
   "source": [
    "assignmentData"
   ],
   "outputs": [
    {
     "output_type": "execute_result",
     "data": {
      "text/plain": [
       "[{'name': '\"homework 1 (due september 9)\"',\n",
       "  'due': datetime.datetime(2021, 9, 9, 15, 30, tzinfo=<DstTzInfo 'America/New_York' EDT-1 day, 20:00:00 DST>),\n",
       "  'submission': ['online_upload'],\n",
       "  'desc': 'null',\n",
       "  'url': 'https://umd.instructure.com/courses/1307233/assignments/5683574'},\n",
       " {'name': '\"homework 2 (due september 16)\"',\n",
       "  'due': datetime.datetime(2021, 9, 16, 15, 30, tzinfo=<DstTzInfo 'America/New_York' EDT-1 day, 20:00:00 DST>),\n",
       "  'submission': ['online_upload'],\n",
       "  'desc': 'null',\n",
       "  'url': 'https://umd.instructure.com/courses/1307233/assignments/5683828'},\n",
       " {'name': '\"homework 3 (due october 7)\"',\n",
       "  'due': datetime.datetime(2021, 10, 7, 15, 30, tzinfo=<DstTzInfo 'America/New_York' EDT-1 day, 20:00:00 DST>),\n",
       "  'submission': ['online_upload'],\n",
       "  'desc': 'null',\n",
       "  'url': 'https://umd.instructure.com/courses/1307233/assignments/5683835'},\n",
       " {'name': '\"homework 4 (due october 14)\"',\n",
       "  'due': datetime.datetime(2021, 10, 14, 15, 30, tzinfo=<DstTzInfo 'America/New_York' EDT-1 day, 20:00:00 DST>),\n",
       "  'submission': ['online_upload'],\n",
       "  'desc': 'null',\n",
       "  'url': 'https://umd.instructure.com/courses/1307233/assignments/5684054'},\n",
       " {'name': '\"homework 5 (due november 4)\"',\n",
       "  'due': datetime.datetime(2021, 11, 4, 15, 30, tzinfo=<DstTzInfo 'America/New_York' EDT-1 day, 20:00:00 DST>),\n",
       "  'submission': ['online_upload'],\n",
       "  'desc': 'null',\n",
       "  'url': 'https://umd.instructure.com/courses/1307233/assignments/5684061'},\n",
       " {'name': '\"homework 6 (due november 11)\"',\n",
       "  'due': datetime.datetime(2021, 11, 11, 15, 30, tzinfo=<DstTzInfo 'America/New_York' EST-1 day, 19:00:00 STD>),\n",
       "  'submission': ['online_upload'],\n",
       "  'desc': 'null',\n",
       "  'url': 'https://umd.instructure.com/courses/1307233/assignments/5684063'},\n",
       " {'name': '\"lab 1  (due september 23)\"',\n",
       "  'due': datetime.datetime(2021, 9, 23, 15, 30, tzinfo=<DstTzInfo 'America/New_York' EDT-1 day, 20:00:00 DST>),\n",
       "  'submission': ['online_upload'],\n",
       "  'desc': 'null',\n",
       "  'url': 'https://umd.instructure.com/courses/1307233/assignments/5683581'},\n",
       " {'name': '\"lab 2  (due october 21)\"',\n",
       "  'due': datetime.datetime(2021, 10, 21, 15, 30, tzinfo=<DstTzInfo 'America/New_York' EDT-1 day, 20:00:00 DST>),\n",
       "  'submission': ['online_upload'],\n",
       "  'desc': 'null',\n",
       "  'url': 'https://umd.instructure.com/courses/1307233/assignments/5684093'},\n",
       " {'name': '\"lab 3  (due november 18)\"',\n",
       "  'due': datetime.datetime(2021, 11, 18, 15, 30, tzinfo=<DstTzInfo 'America/New_York' EST-1 day, 19:00:00 STD>),\n",
       "  'submission': ['online_upload'],\n",
       "  'desc': 'null',\n",
       "  'url': 'https://umd.instructure.com/courses/1307233/assignments/5684135'},\n",
       " {'name': '\"lab 4  (due december 7)\"',\n",
       "  'due': datetime.datetime(2021, 12, 7, 15, 30, tzinfo=<DstTzInfo 'America/New_York' EST-1 day, 19:00:00 STD>),\n",
       "  'submission': ['online_upload'],\n",
       "  'desc': 'null',\n",
       "  'url': 'https://umd.instructure.com/courses/1307233/assignments/5684168'}]"
      ]
     },
     "metadata": {},
     "execution_count": 7
    }
   ],
   "metadata": {}
  },
  {
   "cell_type": "markdown",
   "source": [
    "## 5. Define necessary variables to connect to notion"
   ],
   "metadata": {}
  },
  {
   "cell_type": "code",
   "execution_count": 8,
   "source": [
    "notion_url = f\"https://api.notion.com/v1/pages\"\r\n",
    "\r\n",
    "notion_tokens = {'Authorization': env['NOTION_KEY']}"
   ],
   "outputs": [],
   "metadata": {}
  },
  {
   "cell_type": "markdown",
   "source": [
    "## 6. Define functions to filter assignments and post data"
   ],
   "metadata": {}
  },
  {
   "cell_type": "code",
   "execution_count": 9,
   "source": [
    "def getCurrentAssignments(database_id):\r\n",
    "    r = requests.post(f\"https://api.notion.com/v1/databases/{database_id}/query\", headers=notion_tokens)\r\n",
    "    response = r.json()[\"results\"]\r\n",
    "    current_assignments = []\r\n",
    "    for item in response:\r\n",
    "        current_assignments.append(\r\n",
    "            item['properties']['Name']['title'][0]['plain_text']\r\n",
    "        )\r\n",
    "    return current_assignments\r\n",
    "\r\n",
    "def filterAssignments(assignmentData, database_id=env['NOTION_TESTING_DATABASE_ID']):\r\n",
    "\r\n",
    "    filteredAssignmentData = assignmentData[:]\r\n",
    "    \r\n",
    "    currentAssignments = getCurrentAssignments(database_id)\r\n",
    "\r\n",
    "    for assignment in assignmentData:\r\n",
    "        if assignment['name'] in currentAssignments:\r\n",
    "            filteredAssignmentData.remove(assignment)\r\n",
    "    return filteredAssignmentData"
   ],
   "outputs": [],
   "metadata": {}
  },
  {
   "cell_type": "code",
   "execution_count": 10,
   "source": [
    "print(getCurrentAssignments(env['NOTION_TESTING_DATABASE_ID']))"
   ],
   "outputs": [
    {
     "output_type": "stream",
     "name": "stdout",
     "text": [
      "[]\n"
     ]
    }
   ],
   "metadata": {}
  },
  {
   "cell_type": "code",
   "execution_count": 11,
   "source": [
    "filteredAssignmentData = filterAssignments(assignmentData)\r\n",
    "filteredAssignmentData"
   ],
   "outputs": [
    {
     "output_type": "execute_result",
     "data": {
      "text/plain": [
       "[{'name': '\"homework 1 (due september 9)\"',\n",
       "  'due': datetime.datetime(2021, 9, 9, 15, 30, tzinfo=<DstTzInfo 'America/New_York' EDT-1 day, 20:00:00 DST>),\n",
       "  'submission': ['online_upload'],\n",
       "  'desc': 'null',\n",
       "  'url': 'https://umd.instructure.com/courses/1307233/assignments/5683574'},\n",
       " {'name': '\"homework 2 (due september 16)\"',\n",
       "  'due': datetime.datetime(2021, 9, 16, 15, 30, tzinfo=<DstTzInfo 'America/New_York' EDT-1 day, 20:00:00 DST>),\n",
       "  'submission': ['online_upload'],\n",
       "  'desc': 'null',\n",
       "  'url': 'https://umd.instructure.com/courses/1307233/assignments/5683828'},\n",
       " {'name': '\"homework 3 (due october 7)\"',\n",
       "  'due': datetime.datetime(2021, 10, 7, 15, 30, tzinfo=<DstTzInfo 'America/New_York' EDT-1 day, 20:00:00 DST>),\n",
       "  'submission': ['online_upload'],\n",
       "  'desc': 'null',\n",
       "  'url': 'https://umd.instructure.com/courses/1307233/assignments/5683835'},\n",
       " {'name': '\"homework 4 (due october 14)\"',\n",
       "  'due': datetime.datetime(2021, 10, 14, 15, 30, tzinfo=<DstTzInfo 'America/New_York' EDT-1 day, 20:00:00 DST>),\n",
       "  'submission': ['online_upload'],\n",
       "  'desc': 'null',\n",
       "  'url': 'https://umd.instructure.com/courses/1307233/assignments/5684054'},\n",
       " {'name': '\"homework 5 (due november 4)\"',\n",
       "  'due': datetime.datetime(2021, 11, 4, 15, 30, tzinfo=<DstTzInfo 'America/New_York' EDT-1 day, 20:00:00 DST>),\n",
       "  'submission': ['online_upload'],\n",
       "  'desc': 'null',\n",
       "  'url': 'https://umd.instructure.com/courses/1307233/assignments/5684061'},\n",
       " {'name': '\"homework 6 (due november 11)\"',\n",
       "  'due': datetime.datetime(2021, 11, 11, 15, 30, tzinfo=<DstTzInfo 'America/New_York' EST-1 day, 19:00:00 STD>),\n",
       "  'submission': ['online_upload'],\n",
       "  'desc': 'null',\n",
       "  'url': 'https://umd.instructure.com/courses/1307233/assignments/5684063'},\n",
       " {'name': '\"lab 1  (due september 23)\"',\n",
       "  'due': datetime.datetime(2021, 9, 23, 15, 30, tzinfo=<DstTzInfo 'America/New_York' EDT-1 day, 20:00:00 DST>),\n",
       "  'submission': ['online_upload'],\n",
       "  'desc': 'null',\n",
       "  'url': 'https://umd.instructure.com/courses/1307233/assignments/5683581'},\n",
       " {'name': '\"lab 2  (due october 21)\"',\n",
       "  'due': datetime.datetime(2021, 10, 21, 15, 30, tzinfo=<DstTzInfo 'America/New_York' EDT-1 day, 20:00:00 DST>),\n",
       "  'submission': ['online_upload'],\n",
       "  'desc': 'null',\n",
       "  'url': 'https://umd.instructure.com/courses/1307233/assignments/5684093'},\n",
       " {'name': '\"lab 3  (due november 18)\"',\n",
       "  'due': datetime.datetime(2021, 11, 18, 15, 30, tzinfo=<DstTzInfo 'America/New_York' EST-1 day, 19:00:00 STD>),\n",
       "  'submission': ['online_upload'],\n",
       "  'desc': 'null',\n",
       "  'url': 'https://umd.instructure.com/courses/1307233/assignments/5684135'},\n",
       " {'name': '\"lab 4  (due december 7)\"',\n",
       "  'due': datetime.datetime(2021, 12, 7, 15, 30, tzinfo=<DstTzInfo 'America/New_York' EST-1 day, 19:00:00 STD>),\n",
       "  'submission': ['online_upload'],\n",
       "  'desc': 'null',\n",
       "  'url': 'https://umd.instructure.com/courses/1307233/assignments/5684168'}]"
      ]
     },
     "metadata": {},
     "execution_count": 11
    }
   ],
   "metadata": {}
  },
  {
   "cell_type": "markdown",
   "source": [
    "## 7. Single `for` loop to create json data structure and run the Notion Connection Process"
   ],
   "metadata": {}
  },
  {
   "cell_type": "code",
   "execution_count": 12,
   "source": [
    "for assignment in filteredAssignmentData:\r\n",
    "\r\n",
    "    data = {\r\n",
    "        \"parent\": {\"database_id\":env['NOTION_TESTING_DATABASE_ID'],},\r\n",
    "\r\n",
    "        \"properties\": {\r\n",
    "            \"Name\" : {\r\n",
    "                \"title\": [\r\n",
    "                    {\r\n",
    "                        \"text\": {\r\n",
    "                            \"content\": assignment['name'] \r\n",
    "                        }\r\n",
    "                    }\r\n",
    "                ]\r\n",
    "            },\r\n",
    "            \"Due Date\": {\r\n",
    "                \"date\":{\r\n",
    "                    \"start\":assignment['due'].isoformat()\r\n",
    "                }\r\n",
    "\r\n",
    "            },\r\n",
    "            \"Type\": {\r\n",
    "                \"select\": {\r\n",
    "                    \"name\": \"Quiz\" if 'online_quiz' in assignment['submission'] else \\\r\n",
    "                            \"Homework\" if assignment['name'].split(' ')[0].lower() == \"homework\" else \\\r\n",
    "                            \"Lab\" if assignment['name'].split(' ')[0].lower() == \"lab\" else \\\r\n",
    "                            \"Exam\" if assignment['name'].split(' ')[0].lower() in ['exam', 'midterm', 'final'] else \\\r\n",
    "                            \"Assignment\"\r\n",
    "                }\r\n",
    "            }\r\n",
    "        }\r\n",
    "        # \"children\":[\r\n",
    "        #     {\r\n",
    "        #         \"object\": \"block\",\r\n",
    "        #         \"type\": \"heading_2\",\r\n",
    "        #         \"heading_2\": {\r\n",
    "        #             \"text\": [{ \"type\": \"text\", \"text\": { \"content\": \"Description\" } }]\r\n",
    "        #         }\r\n",
    "        #     },\r\n",
    "        #     {\r\n",
    "        #         \"object\": \"block\",\r\n",
    "        #         \"type\": \"paragraph\",\r\n",
    "        #         \"paragraph\": {\r\n",
    "        #             \"text\": [\r\n",
    "        #                 {\r\n",
    "        #                     \"type\": \"text\",\r\n",
    "        #                     \"text\": {\r\n",
    "        #                         \"content\": assignment['desc'],\r\n",
    "        #                     }\r\n",
    "        #                 }\r\n",
    "        #             ]\r\n",
    "        #         }\r\n",
    "        #     },\r\n",
    "        #     {\r\n",
    "        #         \"object\": \"block\",\r\n",
    "        #         \"type\": \"paragraph\",\r\n",
    "        #         \"paragraph\": {\r\n",
    "        #             \"text\": [\r\n",
    "        #                 {\r\n",
    "        #                     \"type\": \"text\",\r\n",
    "        #                     \"text\": {\r\n",
    "        #                         \"content\": \"Link\",\r\n",
    "        #                         \"link\": { \"url\": assignment[\"url\"] }\r\n",
    "        #                     }\r\n",
    "        #                 }\r\n",
    "        #             ]\r\n",
    "        #         }\r\n",
    "        #     }\r\n",
    "        # ]\r\n",
    "    }\r\n",
    "\r\n",
    "    r = requests.post(notion_url, json=data, headers=notion_tokens)\r\n",
    "    print(f\"{assignment['name']} --> {r.status_code}\")\r\n",
    "    if r.status_code != 200:\r\n",
    "        print(f\"{r.text['code']} : {r.text['message']}\")"
   ],
   "outputs": [
    {
     "output_type": "stream",
     "name": "stdout",
     "text": [
      "\"homework 1 (due september 9)\" --> 200\n",
      "\"homework 2 (due september 16)\" --> 200\n",
      "\"homework 3 (due october 7)\" --> 200\n",
      "\"homework 4 (due october 14)\" --> 200\n",
      "\"homework 5 (due november 4)\" --> 200\n",
      "\"homework 6 (due november 11)\" --> 200\n",
      "\"lab 1  (due september 23)\" --> 200\n",
      "\"lab 2  (due october 21)\" --> 200\n",
      "\"lab 3  (due november 18)\" --> 200\n",
      "\"lab 4  (due december 7)\" --> 200\n"
     ]
    }
   ],
   "metadata": {}
  },
  {
   "cell_type": "markdown",
   "source": [
    "## Future Work\n",
    "\n",
    "### Noah's suggestions:\n",
    "\n",
    "1. Description, i.e. text or image, # Category of Assignment\n",
    "2. Undated assignment persistence"
   ],
   "metadata": {}
  }
 ]
}